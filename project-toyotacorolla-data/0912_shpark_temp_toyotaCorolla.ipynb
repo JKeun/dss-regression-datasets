{
 "cells": [
  {
   "cell_type": "code",
   "execution_count": 1,
   "metadata": {
    "collapsed": true
   },
   "outputs": [],
   "source": [
    "import pandas as pd"
   ]
  },
  {
   "cell_type": "code",
   "execution_count": 2,
   "metadata": {},
   "outputs": [
    {
     "name": "stdout",
     "output_type": "stream",
     "text": [
      " C 드라이브의 볼륨: Windows\n",
      " 볼륨 일련 번호: 2CEB-91C9\n",
      "\n",
      " C:\\Users\\Sanghun\\Desktop\\dss5\\dev\\fastcampus\\dss-regression-datasets\\project-toyotacorolla-data 디렉터리\n",
      "\n",
      "09/12/2017  10:06 AM    <DIR>          .\n",
      "09/12/2017  10:06 AM    <DIR>          ..\n",
      "09/12/2017  10:06 AM    <DIR>          .ipynb_checkpoints\n",
      "09/12/2017  09:28 AM            22,528 data_description.xls\n",
      "09/12/2017  09:28 AM           147,912 header.jpg\n",
      "09/12/2017  09:28 AM             2,055 README.md\n",
      "09/12/2017  09:28 AM            63,823 test.csv\n",
      "09/12/2017  09:28 AM           161,372 train.csv\n",
      "09/12/2017  10:06 AM                72 Untitled.ipynb\n",
      "               6개 파일             397,762 바이트\n",
      "               3개 디렉터리  14,101,073,920 바이트 남음\n"
     ]
    }
   ],
   "source": [
    "%ls"
   ]
  },
  {
   "cell_type": "code",
   "execution_count": 29,
   "metadata": {},
   "outputs": [],
   "source": [
    "test = pd.read_csv(\"test.csv\", encoding='cp949')\n",
    "train = pd.read_csv(\"train.csv\", encoding='cp949')"
   ]
  },
  {
   "cell_type": "code",
   "execution_count": 7,
   "metadata": {},
   "outputs": [
    {
     "data": {
      "text/plain": [
       "(1019, 39)"
      ]
     },
     "execution_count": 7,
     "metadata": {},
     "output_type": "execute_result"
    }
   ],
   "source": [
    "train.shape"
   ]
  },
  {
   "cell_type": "code",
   "execution_count": 9,
   "metadata": {},
   "outputs": [
    {
     "data": {
      "text/plain": [
       "(417, 38)"
      ]
     },
     "execution_count": 9,
     "metadata": {},
     "output_type": "execute_result"
    }
   ],
   "source": [
    "test.shape"
   ]
  },
  {
   "cell_type": "code",
   "execution_count": 30,
   "metadata": {},
   "outputs": [
    {
     "data": {
      "text/html": [
       "<div>\n",
       "<style>\n",
       "    .dataframe thead tr:only-child th {\n",
       "        text-align: right;\n",
       "    }\n",
       "\n",
       "    .dataframe thead th {\n",
       "        text-align: left;\n",
       "    }\n",
       "\n",
       "    .dataframe tbody tr th {\n",
       "        vertical-align: top;\n",
       "    }\n",
       "</style>\n",
       "<table border=\"1\" class=\"dataframe\">\n",
       "  <thead>\n",
       "    <tr style=\"text-align: right;\">\n",
       "      <th></th>\n",
       "      <th>Id</th>\n",
       "      <th>Model</th>\n",
       "      <th>Price</th>\n",
       "      <th>Age_08_04</th>\n",
       "      <th>Mfg_Month</th>\n",
       "      <th>Mfg_Year</th>\n",
       "      <th>KM</th>\n",
       "      <th>Fuel_Type</th>\n",
       "      <th>HP</th>\n",
       "      <th>Met_Color</th>\n",
       "      <th>...</th>\n",
       "      <th>Powered_Windows</th>\n",
       "      <th>Power_Steering</th>\n",
       "      <th>Radio</th>\n",
       "      <th>Mistlamps</th>\n",
       "      <th>Sport_Model</th>\n",
       "      <th>Backseat_Divider</th>\n",
       "      <th>Metallic_Rim</th>\n",
       "      <th>Radio_cassette</th>\n",
       "      <th>Parking_Assistant</th>\n",
       "      <th>Tow_Bar</th>\n",
       "    </tr>\n",
       "  </thead>\n",
       "  <tbody>\n",
       "    <tr>\n",
       "      <th>1014</th>\n",
       "      <td>1434</td>\n",
       "      <td>TOYOTA Corolla 1.3 16V HATCHB LINEA TERRA AUT3...</td>\n",
       "      <td>8950</td>\n",
       "      <td>71</td>\n",
       "      <td>10</td>\n",
       "      <td>1998</td>\n",
       "      <td>29000</td>\n",
       "      <td>Petrol</td>\n",
       "      <td>86</td>\n",
       "      <td>1</td>\n",
       "      <td>...</td>\n",
       "      <td>0</td>\n",
       "      <td>1</td>\n",
       "      <td>0</td>\n",
       "      <td>0</td>\n",
       "      <td>0</td>\n",
       "      <td>1</td>\n",
       "      <td>0</td>\n",
       "      <td>0</td>\n",
       "      <td>0</td>\n",
       "      <td>0</td>\n",
       "    </tr>\n",
       "    <tr>\n",
       "      <th>1015</th>\n",
       "      <td>1438</td>\n",
       "      <td>TOYOTA Corolla 1.3 16V HATCHB G6 2/3-Doors</td>\n",
       "      <td>7500</td>\n",
       "      <td>69</td>\n",
       "      <td>12</td>\n",
       "      <td>1998</td>\n",
       "      <td>20544</td>\n",
       "      <td>Petrol</td>\n",
       "      <td>86</td>\n",
       "      <td>1</td>\n",
       "      <td>...</td>\n",
       "      <td>1</td>\n",
       "      <td>1</td>\n",
       "      <td>0</td>\n",
       "      <td>1</td>\n",
       "      <td>1</td>\n",
       "      <td>1</td>\n",
       "      <td>0</td>\n",
       "      <td>0</td>\n",
       "      <td>0</td>\n",
       "      <td>0</td>\n",
       "    </tr>\n",
       "    <tr>\n",
       "      <th>1016</th>\n",
       "      <td>1440</td>\n",
       "      <td>TOYOTA Corolla 1.3 16V HATCHB LINEA TERRA 2/3-...</td>\n",
       "      <td>8500</td>\n",
       "      <td>71</td>\n",
       "      <td>10</td>\n",
       "      <td>1998</td>\n",
       "      <td>17016</td>\n",
       "      <td>Petrol</td>\n",
       "      <td>86</td>\n",
       "      <td>0</td>\n",
       "      <td>...</td>\n",
       "      <td>0</td>\n",
       "      <td>1</td>\n",
       "      <td>0</td>\n",
       "      <td>0</td>\n",
       "      <td>0</td>\n",
       "      <td>1</td>\n",
       "      <td>0</td>\n",
       "      <td>0</td>\n",
       "      <td>0</td>\n",
       "      <td>0</td>\n",
       "    </tr>\n",
       "    <tr>\n",
       "      <th>1017</th>\n",
       "      <td>1441</td>\n",
       "      <td>TOYOTA Corolla 1.3 16V HATCHB LINEA TERRA 2/3-...</td>\n",
       "      <td>7250</td>\n",
       "      <td>70</td>\n",
       "      <td>11</td>\n",
       "      <td>1998</td>\n",
       "      <td>16916</td>\n",
       "      <td>Petrol</td>\n",
       "      <td>86</td>\n",
       "      <td>1</td>\n",
       "      <td>...</td>\n",
       "      <td>0</td>\n",
       "      <td>0</td>\n",
       "      <td>0</td>\n",
       "      <td>0</td>\n",
       "      <td>0</td>\n",
       "      <td>1</td>\n",
       "      <td>0</td>\n",
       "      <td>0</td>\n",
       "      <td>0</td>\n",
       "      <td>0</td>\n",
       "    </tr>\n",
       "    <tr>\n",
       "      <th>1018</th>\n",
       "      <td>1442</td>\n",
       "      <td>TOYOTA Corolla 1.6 LB LINEA TERRA 4/5-Doors</td>\n",
       "      <td>6950</td>\n",
       "      <td>76</td>\n",
       "      <td>5</td>\n",
       "      <td>1998</td>\n",
       "      <td>1</td>\n",
       "      <td>Petrol</td>\n",
       "      <td>110</td>\n",
       "      <td>0</td>\n",
       "      <td>...</td>\n",
       "      <td>0</td>\n",
       "      <td>1</td>\n",
       "      <td>0</td>\n",
       "      <td>0</td>\n",
       "      <td>0</td>\n",
       "      <td>0</td>\n",
       "      <td>0</td>\n",
       "      <td>0</td>\n",
       "      <td>0</td>\n",
       "      <td>0</td>\n",
       "    </tr>\n",
       "  </tbody>\n",
       "</table>\n",
       "<p>5 rows × 39 columns</p>\n",
       "</div>"
      ],
      "text/plain": [
       "        Id                                              Model  Price  \\\n",
       "1014  1434  TOYOTA Corolla 1.3 16V HATCHB LINEA TERRA AUT3...   8950   \n",
       "1015  1438         TOYOTA Corolla 1.3 16V HATCHB G6 2/3-Doors   7500   \n",
       "1016  1440  TOYOTA Corolla 1.3 16V HATCHB LINEA TERRA 2/3-...   8500   \n",
       "1017  1441  TOYOTA Corolla 1.3 16V HATCHB LINEA TERRA 2/3-...   7250   \n",
       "1018  1442        TOYOTA Corolla 1.6 LB LINEA TERRA 4/5-Doors   6950   \n",
       "\n",
       "      Age_08_04  Mfg_Month  Mfg_Year     KM Fuel_Type   HP  Met_Color  \\\n",
       "1014         71         10      1998  29000    Petrol   86          1   \n",
       "1015         69         12      1998  20544    Petrol   86          1   \n",
       "1016         71         10      1998  17016    Petrol   86          0   \n",
       "1017         70         11      1998  16916    Petrol   86          1   \n",
       "1018         76          5      1998      1    Petrol  110          0   \n",
       "\n",
       "       ...    Powered_Windows  Power_Steering  Radio  Mistlamps  Sport_Model  \\\n",
       "1014   ...                  0               1      0          0            0   \n",
       "1015   ...                  1               1      0          1            1   \n",
       "1016   ...                  0               1      0          0            0   \n",
       "1017   ...                  0               0      0          0            0   \n",
       "1018   ...                  0               1      0          0            0   \n",
       "\n",
       "      Backseat_Divider  Metallic_Rim  Radio_cassette  Parking_Assistant  \\\n",
       "1014                 1             0               0                  0   \n",
       "1015                 1             0               0                  0   \n",
       "1016                 1             0               0                  0   \n",
       "1017                 1             0               0                  0   \n",
       "1018                 0             0               0                  0   \n",
       "\n",
       "      Tow_Bar  \n",
       "1014        0  \n",
       "1015        0  \n",
       "1016        0  \n",
       "1017        0  \n",
       "1018        0  \n",
       "\n",
       "[5 rows x 39 columns]"
      ]
     },
     "execution_count": 30,
     "metadata": {},
     "output_type": "execute_result"
    }
   ],
   "source": [
    "train.tail()"
   ]
  },
  {
   "cell_type": "code",
   "execution_count": 13,
   "metadata": {},
   "outputs": [
    {
     "data": {
      "text/plain": [
       "['Price']"
      ]
     },
     "execution_count": 13,
     "metadata": {},
     "output_type": "execute_result"
    }
   ],
   "source": [
    "[x for x in train.keys() if x not in test.keys()]"
   ]
  },
  {
   "cell_type": "code",
   "execution_count": 14,
   "metadata": {},
   "outputs": [
    {
     "name": "stdout",
     "output_type": "stream",
     "text": [
      "<class 'pandas.core.frame.DataFrame'>\n",
      "RangeIndex: 1019 entries, 0 to 1018\n",
      "Data columns (total 39 columns):\n",
      "Id                   1019 non-null int64\n",
      "Model                1019 non-null object\n",
      "Price                1019 non-null int64\n",
      "Age_08_04            1019 non-null int64\n",
      "Mfg_Month            1019 non-null int64\n",
      "Mfg_Year             1019 non-null int64\n",
      "KM                   1019 non-null int64\n",
      "Fuel_Type            1019 non-null object\n",
      "HP                   1019 non-null int64\n",
      "Met_Color            1019 non-null int64\n",
      "Color                1019 non-null object\n",
      "Automatic            1019 non-null int64\n",
      "CC                   1019 non-null int64\n",
      "Doors                1019 non-null int64\n",
      "Cylinders            1019 non-null int64\n",
      "Gears                1019 non-null int64\n",
      "Quarterly_Tax        1019 non-null int64\n",
      "Weight               1019 non-null int64\n",
      "Mfr_Guarantee        1019 non-null int64\n",
      "BOVAG_Guarantee      1019 non-null int64\n",
      "Guarantee_Period     1019 non-null int64\n",
      "ABS                  1019 non-null int64\n",
      "Airbag_1             1019 non-null int64\n",
      "Airbag_2             1019 non-null int64\n",
      "Airco                1019 non-null int64\n",
      "Automatic_airco      1019 non-null int64\n",
      "Boardcomputer        1019 non-null int64\n",
      "CD_Player            1019 non-null int64\n",
      "Central_Lock         1019 non-null int64\n",
      "Powered_Windows      1019 non-null int64\n",
      "Power_Steering       1019 non-null int64\n",
      "Radio                1019 non-null int64\n",
      "Mistlamps            1019 non-null int64\n",
      "Sport_Model          1019 non-null int64\n",
      "Backseat_Divider     1019 non-null int64\n",
      "Metallic_Rim         1019 non-null int64\n",
      "Radio_cassette       1019 non-null int64\n",
      "Parking_Assistant    1019 non-null int64\n",
      "Tow_Bar              1019 non-null int64\n",
      "dtypes: int64(36), object(3)\n",
      "memory usage: 310.6+ KB\n"
     ]
    }
   ],
   "source": [
    "train.info(verbose=True)"
   ]
  },
  {
   "cell_type": "code",
   "execution_count": 31,
   "metadata": {},
   "outputs": [
    {
     "data": {
      "text/plain": [
       "TOYOTA Corolla 1.6 16V HATCHB LINEA TERRA 2/3-Doors          78\n",
       "TOYOTA Corolla 1.3 16V HATCHB LINEA TERRA 2/3-Doors          57\n",
       "TOYOTA Corolla 1.6 16V LIFTB LINEA LUNA 4/5-Doors            55\n",
       "TOYOTA Corolla 1.6 16V LIFTB LINEA TERRA 4/5-Doors           52\n",
       "TOYOTA Corolla 1.6 16V SEDAN LINEA TERRA 4/5-Doors           29\n",
       "TOYOTA Corolla 1.3 16V LIFTB LINEA TERRA 4/5-Doors           28\n",
       "TOYOTA Corolla 1.6 16V VVT I LIFTB TERRA 4/5-Doors           23\n",
       "TOYOTA Corolla 1.4 16V VVT I HATCHB TERRA 2/3-Doors          23\n",
       "TOYOTA Corolla 1.6 16V WAGON LINEA TERRA Stationwagen        22\n",
       "TOYOTA Corolla 1.6 16V VVT I LIFTB SOL 4/5-Doors             19\n",
       "TOYOTA Corolla 1.6 16V HATCHB LINEA LUNA 2/3-Doors           18\n",
       "TOYOTA Corolla 2.0 DSL HATCHB LINEA TERRA 2/3-Doors          18\n",
       "TOYOTA Corolla 2.0 DSL LIFTB LINEA TERRA 4/5-Doors           15\n",
       "TOYOTA Corolla 1.6 16V VVT I 5DR SOL 4/5-Doors               15\n",
       "TOYOTA Corolla 1.6 16V VVT I LIFTB LUNA 4/5-Doors            13\n",
       "TOYOTA Corolla 1.6 16V VVT I HATCHB TERRA 2/3-Doors          11\n",
       "TOYOTA Corolla 1.6 16V VVT I HATCHB G6 2/3-Doors             11\n",
       "TOYOTA Corolla 1.6 16V HATCHB G6 R 2/3-Doors                 10\n",
       "혻TOYOTA Corolla 1.4 16V VVT I HATCHB TERRA 2/3-Doors         10\n",
       "TOYOTA Corolla 1.6 16V HATCHB G6 2/3-Doors                   10\n",
       "TOYOTA Corolla 1.6 16V HATCHB S 2/3-Doors                    10\n",
       "TOYOTA Corolla 1.6 16V VVT I SEDAN TERRA 4/5-Doors           10\n",
       "TOYOTA Corolla 1.4 16V VVT I LIFTB TERRA 4/5-Doors           10\n",
       "TOYOTA Corolla 1.4 16V VVT I 5DR TERRA COMFORT 4/5-Doors      9\n",
       "TOYOTA Corolla 1.3 16V SEDAN LINEA TERRA 4/5-Doors            8\n",
       "TOYOTA Corolla 1.4 16V VVT I 3DR TERRA COMFORT 2/3-Doors      8\n",
       "혻TOYOTA Corolla 1.4 16V VVT I LIFTB TERRA 4/5-Doors           7\n",
       "TOYOTA Corolla 1.6 16V HATCHB LINEA TERRA AUT4 2/3-Doors      6\n",
       "TOYOTA Corolla 1.3 16V HATCHB LINEA TERRA AUT3 2/3-Doors      6\n",
       "TOYOTA Corolla 1.6 16V VVT I HATCHB SOL 2/3-Doors             6\n",
       "                                                             ..\n",
       "혻TOYOTA Corolla 1.6 16V LIFTB LINEA TERRA 4/5-Doors           1\n",
       "TOYOTA Corolla 1.6 16V VVT I SEDAN SOL 4/5-Doors              1\n",
       "TOYOTA Corolla 1.6 Linea Luna 2/3-Doors                       1\n",
       "TOYOTA Corolla 1.6 SDN LINEA TERRA AUT 4/5-Doors              1\n",
       "TOYOTA Corolla 1.9 D WGN LINEA TERRA Stationwagen             1\n",
       "TOYOTA Corolla 1.6 16V LIFTBACK LINEA LUNA 4/5-Doors          1\n",
       "TOYOTA Corolla 1.6 16V VVT I 3DR TERRA 2/3-Doors              1\n",
       "TOYOTA Corolla 1.6 16V VVT I 5DR SOL BNS 4/5-Doors            1\n",
       "TOYOTA Corolla 1.3-16V Luna 2/3-Doors                         1\n",
       "TOYOTA Corolla 1.3 16V WAGON LINEA LUNA Stationwagen          1\n",
       "TOYOTA Corolla LIFTBACK 1.6 Linea Luna Liftback 4/5-Doors     1\n",
       "TOYOTA Corolla 1.6 16v TERRA 4/5-Doors                        1\n",
       "TOYOTA Corolla                                                1\n",
       "혻TOYOTA Corolla 1.6 16V LIFTB LINEA LUNA 4/5-Doors            1\n",
       "TOYOTA Corolla LIFTBACK 1.9 D Linea Terra 4/5-Doors           1\n",
       "TOYOTA Corolla 1.3 16v linea terra                            1\n",
       "TOYOTA Corolla 1.6 Linea Terra Sd 4/5-Doors                   1\n",
       "TOYOTA Corolla 1.6 HB LINEA LUNA 2/3-Doors                    1\n",
       "혻TOYOTA Corolla 2.0 D4D 90 5DR TERRA COMFORT 4/5-Doors        1\n",
       "TOYOTA Corolla 1.6 Luna LB 4/5-Doors                          1\n",
       "TOYOTA Corolla 1.6 SDN LINEA SOL 4/5-Doors                    1\n",
       "TOYOTA Corolla 1.6 HB LINEA SOL 4/5-Doors                     1\n",
       "TOYOTA Corolla 1.6 16V SEDAN LINEA LUNA AUT4 4/5-Doors        1\n",
       "혻TOYOTA Corolla 2.0 D4D 90 5DR SOL 4/5-Doors                  1\n",
       "혻TOYOTA Corolla 1.6 SDN LINEA TERRA 4/5-Doors                 1\n",
       "TOYOTA Corolla LIFTBACK 1.6-16v Linea Luna 4/5-Doors          1\n",
       "TOYOTA Corolla 2.0diesel Stationwagen                         1\n",
       "TOYOTA Corolla 3drs 13i-16V 2/3-Doors                         1\n",
       "TOYOTA Corolla 1.6 LB *G3* AIRCO 4/5-Doors                    1\n",
       "TOYOTA Corolla 1.3 16V 2/3-Doors                              1\n",
       "Name: Model, Length: 301, dtype: int64"
      ]
     },
     "execution_count": 31,
     "metadata": {},
     "output_type": "execute_result"
    }
   ],
   "source": [
    "train.Model.value_counts()"
   ]
  }
 ],
 "metadata": {
  "kernelspec": {
   "display_name": "Python 3",
   "language": "python",
   "name": "python3"
  },
  "language_info": {
   "codemirror_mode": {
    "name": "ipython",
    "version": 3
   },
   "file_extension": ".py",
   "mimetype": "text/x-python",
   "name": "python",
   "nbconvert_exporter": "python",
   "pygments_lexer": "ipython3",
   "version": "3.6.1"
  }
 },
 "nbformat": 4,
 "nbformat_minor": 2
}
