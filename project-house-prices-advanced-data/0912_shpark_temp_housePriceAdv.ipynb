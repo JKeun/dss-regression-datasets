{
 "cells": [
  {
   "cell_type": "code",
   "execution_count": 2,
   "metadata": {},
   "outputs": [],
   "source": [
    "# Load in our libraries\n",
    "import pandas as pd\n",
    "import numpy as np\n",
    "import re\n",
    "import sklearn\n",
    "import seaborn as sns\n",
    "import matplotlib.pyplot as plt\n",
    "%matplotlib inline"
   ]
  },
  {
   "cell_type": "code",
   "execution_count": 3,
   "metadata": {},
   "outputs": [
    {
     "name": "stdout",
     "output_type": "stream",
     "text": [
      " C 드라이브의 볼륨: Windows\n",
      " 볼륨 일련 번호: 2CEB-91C9\n",
      "\n",
      " C:\\Users\\Sanghun\\Desktop\\dss5\\dev\\fastcampus\\dss-regression-datasets\\project-house-prices-advanced-data 디렉터리\n",
      "\n",
      "09/12/2017  09:45 AM    <DIR>          .\n",
      "09/12/2017  09:45 AM    <DIR>          ..\n",
      "09/12/2017  09:44 AM    <DIR>          .ipynb_checkpoints\n",
      "09/12/2017  09:45 AM               581 0912_shpark_temp_house_price.ipynb\n",
      "09/12/2017  09:28 AM            13,893 data_description.txt\n",
      "09/12/2017  09:28 AM             5,419 README.md\n",
      "09/12/2017  09:28 AM            33,399 sample_submission.csv\n",
      "09/12/2017  09:28 AM           129,579 test.csv\n",
      "09/12/2017  09:28 AM           322,197 train.csv\n",
      "               6개 파일             505,068 바이트\n",
      "               3개 디렉터리  14,105,280,512 바이트 남음\n"
     ]
    }
   ],
   "source": [
    "% ls"
   ]
  },
  {
   "cell_type": "code",
   "execution_count": 5,
   "metadata": {},
   "outputs": [],
   "source": [
    "test = pd.read_csv(\"test.csv\")\n",
    "train = pd.read_csv(\"train.csv\")"
   ]
  },
  {
   "cell_type": "code",
   "execution_count": 6,
   "metadata": {},
   "outputs": [
    {
     "data": {
      "text/plain": [
       "(1030, 81)"
      ]
     },
     "execution_count": 6,
     "metadata": {},
     "output_type": "execute_result"
    }
   ],
   "source": [
    "train.shape"
   ]
  },
  {
   "cell_type": "code",
   "execution_count": 9,
   "metadata": {},
   "outputs": [
    {
     "data": {
      "text/plain": [
       "(430, 80)"
      ]
     },
     "execution_count": 9,
     "metadata": {},
     "output_type": "execute_result"
    }
   ],
   "source": [
    "test.shape"
   ]
  },
  {
   "cell_type": "code",
   "execution_count": 8,
   "metadata": {},
   "outputs": [
    {
     "data": {
      "text/html": [
       "<div>\n",
       "<style>\n",
       "    .dataframe thead tr:only-child th {\n",
       "        text-align: right;\n",
       "    }\n",
       "\n",
       "    .dataframe thead th {\n",
       "        text-align: left;\n",
       "    }\n",
       "\n",
       "    .dataframe tbody tr th {\n",
       "        vertical-align: top;\n",
       "    }\n",
       "</style>\n",
       "<table border=\"1\" class=\"dataframe\">\n",
       "  <thead>\n",
       "    <tr style=\"text-align: right;\">\n",
       "      <th></th>\n",
       "      <th>Id</th>\n",
       "      <th>MSSubClass</th>\n",
       "      <th>MSZoning</th>\n",
       "      <th>LotFrontage</th>\n",
       "      <th>LotArea</th>\n",
       "      <th>Street</th>\n",
       "      <th>Alley</th>\n",
       "      <th>LotShape</th>\n",
       "      <th>LandContour</th>\n",
       "      <th>Utilities</th>\n",
       "      <th>...</th>\n",
       "      <th>PoolArea</th>\n",
       "      <th>PoolQC</th>\n",
       "      <th>Fence</th>\n",
       "      <th>MiscFeature</th>\n",
       "      <th>MiscVal</th>\n",
       "      <th>MoSold</th>\n",
       "      <th>YrSold</th>\n",
       "      <th>SaleType</th>\n",
       "      <th>SaleCondition</th>\n",
       "      <th>SalePrice</th>\n",
       "    </tr>\n",
       "  </thead>\n",
       "  <tbody>\n",
       "    <tr>\n",
       "      <th>1025</th>\n",
       "      <td>1451</td>\n",
       "      <td>90</td>\n",
       "      <td>RL</td>\n",
       "      <td>60.0</td>\n",
       "      <td>9000</td>\n",
       "      <td>Pave</td>\n",
       "      <td>NaN</td>\n",
       "      <td>Reg</td>\n",
       "      <td>Lvl</td>\n",
       "      <td>AllPub</td>\n",
       "      <td>...</td>\n",
       "      <td>0</td>\n",
       "      <td>NaN</td>\n",
       "      <td>NaN</td>\n",
       "      <td>NaN</td>\n",
       "      <td>0</td>\n",
       "      <td>9</td>\n",
       "      <td>2009</td>\n",
       "      <td>WD</td>\n",
       "      <td>Normal</td>\n",
       "      <td>136000</td>\n",
       "    </tr>\n",
       "    <tr>\n",
       "      <th>1026</th>\n",
       "      <td>1452</td>\n",
       "      <td>20</td>\n",
       "      <td>RL</td>\n",
       "      <td>78.0</td>\n",
       "      <td>9262</td>\n",
       "      <td>Pave</td>\n",
       "      <td>NaN</td>\n",
       "      <td>Reg</td>\n",
       "      <td>Lvl</td>\n",
       "      <td>AllPub</td>\n",
       "      <td>...</td>\n",
       "      <td>0</td>\n",
       "      <td>NaN</td>\n",
       "      <td>NaN</td>\n",
       "      <td>NaN</td>\n",
       "      <td>0</td>\n",
       "      <td>5</td>\n",
       "      <td>2009</td>\n",
       "      <td>New</td>\n",
       "      <td>Partial</td>\n",
       "      <td>287090</td>\n",
       "    </tr>\n",
       "    <tr>\n",
       "      <th>1027</th>\n",
       "      <td>1454</td>\n",
       "      <td>20</td>\n",
       "      <td>RL</td>\n",
       "      <td>90.0</td>\n",
       "      <td>17217</td>\n",
       "      <td>Pave</td>\n",
       "      <td>NaN</td>\n",
       "      <td>Reg</td>\n",
       "      <td>Lvl</td>\n",
       "      <td>AllPub</td>\n",
       "      <td>...</td>\n",
       "      <td>0</td>\n",
       "      <td>NaN</td>\n",
       "      <td>NaN</td>\n",
       "      <td>NaN</td>\n",
       "      <td>0</td>\n",
       "      <td>7</td>\n",
       "      <td>2006</td>\n",
       "      <td>WD</td>\n",
       "      <td>Abnorml</td>\n",
       "      <td>84500</td>\n",
       "    </tr>\n",
       "    <tr>\n",
       "      <th>1028</th>\n",
       "      <td>1455</td>\n",
       "      <td>20</td>\n",
       "      <td>FV</td>\n",
       "      <td>62.0</td>\n",
       "      <td>7500</td>\n",
       "      <td>Pave</td>\n",
       "      <td>Pave</td>\n",
       "      <td>Reg</td>\n",
       "      <td>Lvl</td>\n",
       "      <td>AllPub</td>\n",
       "      <td>...</td>\n",
       "      <td>0</td>\n",
       "      <td>NaN</td>\n",
       "      <td>NaN</td>\n",
       "      <td>NaN</td>\n",
       "      <td>0</td>\n",
       "      <td>10</td>\n",
       "      <td>2009</td>\n",
       "      <td>WD</td>\n",
       "      <td>Normal</td>\n",
       "      <td>185000</td>\n",
       "    </tr>\n",
       "    <tr>\n",
       "      <th>1029</th>\n",
       "      <td>1459</td>\n",
       "      <td>20</td>\n",
       "      <td>RL</td>\n",
       "      <td>68.0</td>\n",
       "      <td>9717</td>\n",
       "      <td>Pave</td>\n",
       "      <td>NaN</td>\n",
       "      <td>Reg</td>\n",
       "      <td>Lvl</td>\n",
       "      <td>AllPub</td>\n",
       "      <td>...</td>\n",
       "      <td>0</td>\n",
       "      <td>NaN</td>\n",
       "      <td>NaN</td>\n",
       "      <td>NaN</td>\n",
       "      <td>0</td>\n",
       "      <td>4</td>\n",
       "      <td>2010</td>\n",
       "      <td>WD</td>\n",
       "      <td>Normal</td>\n",
       "      <td>142125</td>\n",
       "    </tr>\n",
       "  </tbody>\n",
       "</table>\n",
       "<p>5 rows × 81 columns</p>\n",
       "</div>"
      ],
      "text/plain": [
       "        Id  MSSubClass MSZoning  LotFrontage  LotArea Street Alley LotShape  \\\n",
       "1025  1451          90       RL         60.0     9000   Pave   NaN      Reg   \n",
       "1026  1452          20       RL         78.0     9262   Pave   NaN      Reg   \n",
       "1027  1454          20       RL         90.0    17217   Pave   NaN      Reg   \n",
       "1028  1455          20       FV         62.0     7500   Pave  Pave      Reg   \n",
       "1029  1459          20       RL         68.0     9717   Pave   NaN      Reg   \n",
       "\n",
       "     LandContour Utilities    ...     PoolArea PoolQC Fence MiscFeature  \\\n",
       "1025         Lvl    AllPub    ...            0    NaN   NaN         NaN   \n",
       "1026         Lvl    AllPub    ...            0    NaN   NaN         NaN   \n",
       "1027         Lvl    AllPub    ...            0    NaN   NaN         NaN   \n",
       "1028         Lvl    AllPub    ...            0    NaN   NaN         NaN   \n",
       "1029         Lvl    AllPub    ...            0    NaN   NaN         NaN   \n",
       "\n",
       "     MiscVal MoSold YrSold  SaleType  SaleCondition  SalePrice  \n",
       "1025       0      9   2009        WD         Normal     136000  \n",
       "1026       0      5   2009       New        Partial     287090  \n",
       "1027       0      7   2006        WD        Abnorml      84500  \n",
       "1028       0     10   2009        WD         Normal     185000  \n",
       "1029       0      4   2010        WD         Normal     142125  \n",
       "\n",
       "[5 rows x 81 columns]"
      ]
     },
     "execution_count": 8,
     "metadata": {},
     "output_type": "execute_result"
    }
   ],
   "source": [
    "train.tail()"
   ]
  },
  {
   "cell_type": "code",
   "execution_count": 23,
   "metadata": {},
   "outputs": [
    {
     "data": {
      "text/plain": [
       "['SalePrice']"
      ]
     },
     "execution_count": 23,
     "metadata": {},
     "output_type": "execute_result"
    }
   ],
   "source": [
    "test.keys()\n",
    "train.keys()\n",
    "\n",
    "[x for x in train.keys() if x not in test.keys()]"
   ]
  },
  {
   "cell_type": "code",
   "execution_count": 26,
   "metadata": {},
   "outputs": [
    {
     "data": {
      "text/plain": [
       "False    852\n",
       "True     178\n",
       "Name: LotFrontage, dtype: int64"
      ]
     },
     "execution_count": 26,
     "metadata": {},
     "output_type": "execute_result"
    }
   ],
   "source": [
    "train.LotFrontage.isnull().value_counts()"
   ]
  },
  {
   "cell_type": "code",
   "execution_count": 25,
   "metadata": {},
   "outputs": [
    {
     "name": "stdout",
     "output_type": "stream",
     "text": [
      "<class 'pandas.core.frame.DataFrame'>\n",
      "RangeIndex: 1030 entries, 0 to 1029\n",
      "Data columns (total 81 columns):\n",
      "Id               1030 non-null int64\n",
      "MSSubClass       1030 non-null int64\n",
      "MSZoning         1030 non-null object\n",
      "LotFrontage      852 non-null float64\n",
      "LotArea          1030 non-null int64\n",
      "Street           1030 non-null object\n",
      "Alley            59 non-null object\n",
      "LotShape         1030 non-null object\n",
      "LandContour      1030 non-null object\n",
      "Utilities        1030 non-null object\n",
      "LotConfig        1030 non-null object\n",
      "LandSlope        1030 non-null object\n",
      "Neighborhood     1030 non-null object\n",
      "Condition1       1030 non-null object\n",
      "Condition2       1030 non-null object\n",
      "BldgType         1030 non-null object\n",
      "HouseStyle       1030 non-null object\n",
      "OverallQual      1030 non-null int64\n",
      "OverallCond      1030 non-null int64\n",
      "YearBuilt        1030 non-null int64\n",
      "YearRemodAdd     1030 non-null int64\n",
      "RoofStyle        1030 non-null object\n",
      "RoofMatl         1030 non-null object\n",
      "Exterior1st      1030 non-null object\n",
      "Exterior2nd      1030 non-null object\n",
      "MasVnrType       1026 non-null object\n",
      "MasVnrArea       1026 non-null float64\n",
      "ExterQual        1030 non-null object\n",
      "ExterCond        1030 non-null object\n",
      "Foundation       1030 non-null object\n",
      "BsmtQual         1008 non-null object\n",
      "BsmtCond         1008 non-null object\n",
      "BsmtExposure     1008 non-null object\n",
      "BsmtFinType1     1008 non-null object\n",
      "BsmtFinSF1       1030 non-null int64\n",
      "BsmtFinType2     1007 non-null object\n",
      "BsmtFinSF2       1030 non-null int64\n",
      "BsmtUnfSF        1030 non-null int64\n",
      "TotalBsmtSF      1030 non-null int64\n",
      "Heating          1030 non-null object\n",
      "HeatingQC        1030 non-null object\n",
      "CentralAir       1030 non-null object\n",
      "Electrical       1029 non-null object\n",
      "1stFlrSF         1030 non-null int64\n",
      "2ndFlrSF         1030 non-null int64\n",
      "LowQualFinSF     1030 non-null int64\n",
      "GrLivArea        1030 non-null int64\n",
      "BsmtFullBath     1030 non-null int64\n",
      "BsmtHalfBath     1030 non-null int64\n",
      "FullBath         1030 non-null int64\n",
      "HalfBath         1030 non-null int64\n",
      "BedroomAbvGr     1030 non-null int64\n",
      "KitchenAbvGr     1030 non-null int64\n",
      "KitchenQual      1030 non-null object\n",
      "TotRmsAbvGrd     1030 non-null int64\n",
      "Functional       1030 non-null object\n",
      "Fireplaces       1030 non-null int64\n",
      "FireplaceQu      553 non-null object\n",
      "GarageType       973 non-null object\n",
      "GarageYrBlt      973 non-null float64\n",
      "GarageFinish     973 non-null object\n",
      "GarageCars       1030 non-null int64\n",
      "GarageArea       1030 non-null int64\n",
      "GarageQual       973 non-null object\n",
      "GarageCond       973 non-null object\n",
      "PavedDrive       1030 non-null object\n",
      "WoodDeckSF       1030 non-null int64\n",
      "OpenPorchSF      1030 non-null int64\n",
      "EnclosedPorch    1030 non-null int64\n",
      "3SsnPorch        1030 non-null int64\n",
      "ScreenPorch      1030 non-null int64\n",
      "PoolArea         1030 non-null int64\n",
      "PoolQC           4 non-null object\n",
      "Fence            196 non-null object\n",
      "MiscFeature      33 non-null object\n",
      "MiscVal          1030 non-null int64\n",
      "MoSold           1030 non-null int64\n",
      "YrSold           1030 non-null int64\n",
      "SaleType         1030 non-null object\n",
      "SaleCondition    1030 non-null object\n",
      "SalePrice        1030 non-null int64\n",
      "dtypes: float64(3), int64(35), object(43)\n",
      "memory usage: 651.9+ KB\n"
     ]
    }
   ],
   "source": [
    "train.info(verbose=True)"
   ]
  }
 ],
 "metadata": {
  "kernelspec": {
   "display_name": "Python 3",
   "language": "python",
   "name": "python3"
  },
  "language_info": {
   "codemirror_mode": {
    "name": "ipython",
    "version": 3
   },
   "file_extension": ".py",
   "mimetype": "text/x-python",
   "name": "python",
   "nbconvert_exporter": "python",
   "pygments_lexer": "ipython3",
   "version": "3.6.1"
  }
 },
 "nbformat": 4,
 "nbformat_minor": 2
}
