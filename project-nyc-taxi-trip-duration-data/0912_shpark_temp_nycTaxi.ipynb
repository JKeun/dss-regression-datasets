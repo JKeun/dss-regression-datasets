{
 "cells": [
  {
   "cell_type": "code",
   "execution_count": 1,
   "metadata": {
    "collapsed": true
   },
   "outputs": [],
   "source": [
    "import pandas as pd"
   ]
  },
  {
   "cell_type": "code",
   "execution_count": 2,
   "metadata": {},
   "outputs": [
    {
     "name": "stdout",
     "output_type": "stream",
     "text": [
      " C 드라이브의 볼륨: Windows\n",
      " 볼륨 일련 번호: 2CEB-91C9\n",
      "\n",
      " C:\\Users\\Sanghun\\Desktop\\dss5\\dev\\fastcampus\\dss-regression-datasets\\project-nyc-taxi-trip-duration-data 디렉터리\n",
      "\n",
      "09/12/2017  09:55 AM    <DIR>          .\n",
      "09/12/2017  09:55 AM    <DIR>          ..\n",
      "09/12/2017  09:55 AM    <DIR>          .ipynb_checkpoints\n",
      "09/12/2017  09:55 AM                72 0912_shpark_temp_nycTaxi.ipynb\n",
      "09/12/2017  09:28 AM           178,970 header.png\n",
      "09/12/2017  09:28 AM             3,033 README.md\n",
      "09/12/2017  09:28 AM         9,377,028 sample_submission.csv\n",
      "09/12/2017  09:28 AM        27,734,062 test.csv\n",
      "09/12/2017  09:28 AM        68,548,196 train.csv\n",
      "               6개 파일         105,841,361 바이트\n",
      "               3개 디렉터리  14,101,397,504 바이트 남음\n"
     ]
    }
   ],
   "source": [
    "%ls"
   ]
  },
  {
   "cell_type": "code",
   "execution_count": 3,
   "metadata": {
    "collapsed": true
   },
   "outputs": [],
   "source": [
    "test = pd.read_csv(\"test.csv\")\n",
    "train = pd.read_csv(\"train.csv\")"
   ]
  },
  {
   "cell_type": "code",
   "execution_count": 4,
   "metadata": {},
   "outputs": [
    {
     "data": {
      "text/plain": [
       "(701778, 11)"
      ]
     },
     "execution_count": 4,
     "metadata": {},
     "output_type": "execute_result"
    }
   ],
   "source": [
    "train.shape"
   ]
  },
  {
   "cell_type": "code",
   "execution_count": 5,
   "metadata": {},
   "outputs": [
    {
     "data": {
      "text/plain": [
       "(346797, 9)"
      ]
     },
     "execution_count": 5,
     "metadata": {},
     "output_type": "execute_result"
    }
   ],
   "source": [
    "test.shape"
   ]
  },
  {
   "cell_type": "code",
   "execution_count": 6,
   "metadata": {},
   "outputs": [
    {
     "data": {
      "text/html": [
       "<div>\n",
       "<style>\n",
       "    .dataframe thead tr:only-child th {\n",
       "        text-align: right;\n",
       "    }\n",
       "\n",
       "    .dataframe thead th {\n",
       "        text-align: left;\n",
       "    }\n",
       "\n",
       "    .dataframe tbody tr th {\n",
       "        vertical-align: top;\n",
       "    }\n",
       "</style>\n",
       "<table border=\"1\" class=\"dataframe\">\n",
       "  <thead>\n",
       "    <tr style=\"text-align: right;\">\n",
       "      <th></th>\n",
       "      <th>id</th>\n",
       "      <th>vendor_id</th>\n",
       "      <th>pickup_datetime</th>\n",
       "      <th>dropoff_datetime</th>\n",
       "      <th>passenger_count</th>\n",
       "      <th>pickup_longitude</th>\n",
       "      <th>pickup_latitude</th>\n",
       "      <th>dropoff_longitude</th>\n",
       "      <th>dropoff_latitude</th>\n",
       "      <th>store_and_fwd_flag</th>\n",
       "      <th>trip_duration</th>\n",
       "    </tr>\n",
       "  </thead>\n",
       "  <tbody>\n",
       "    <tr>\n",
       "      <th>701773</th>\n",
       "      <td>id3888279</td>\n",
       "      <td>1</td>\n",
       "      <td>1/1/16 0:01</td>\n",
       "      <td>1/1/16 0:05</td>\n",
       "      <td>1</td>\n",
       "      <td>-73.982292</td>\n",
       "      <td>40.751331</td>\n",
       "      <td>-73.991341</td>\n",
       "      <td>40.750340</td>\n",
       "      <td>N</td>\n",
       "      <td>280</td>\n",
       "    </tr>\n",
       "    <tr>\n",
       "      <th>701774</th>\n",
       "      <td>id1210365</td>\n",
       "      <td>2</td>\n",
       "      <td>1/1/16 0:01</td>\n",
       "      <td>1/1/16 0:07</td>\n",
       "      <td>5</td>\n",
       "      <td>-73.965279</td>\n",
       "      <td>40.801041</td>\n",
       "      <td>-73.947479</td>\n",
       "      <td>40.815170</td>\n",
       "      <td>N</td>\n",
       "      <td>408</td>\n",
       "    </tr>\n",
       "    <tr>\n",
       "      <th>701775</th>\n",
       "      <td>id0924227</td>\n",
       "      <td>1</td>\n",
       "      <td>1/1/16 0:01</td>\n",
       "      <td>1/1/16 0:13</td>\n",
       "      <td>1</td>\n",
       "      <td>-73.970108</td>\n",
       "      <td>40.759800</td>\n",
       "      <td>-73.989357</td>\n",
       "      <td>40.742989</td>\n",
       "      <td>N</td>\n",
       "      <td>736</td>\n",
       "    </tr>\n",
       "    <tr>\n",
       "      <th>701776</th>\n",
       "      <td>id0190469</td>\n",
       "      <td>2</td>\n",
       "      <td>1/1/16 0:00</td>\n",
       "      <td>1/1/16 0:14</td>\n",
       "      <td>5</td>\n",
       "      <td>-73.981743</td>\n",
       "      <td>40.719158</td>\n",
       "      <td>-73.938828</td>\n",
       "      <td>40.829182</td>\n",
       "      <td>N</td>\n",
       "      <td>849</td>\n",
       "    </tr>\n",
       "    <tr>\n",
       "      <th>701777</th>\n",
       "      <td>id1665586</td>\n",
       "      <td>1</td>\n",
       "      <td>1/1/16 0:00</td>\n",
       "      <td>1/1/16 0:22</td>\n",
       "      <td>1</td>\n",
       "      <td>-73.985085</td>\n",
       "      <td>40.747166</td>\n",
       "      <td>-73.958038</td>\n",
       "      <td>40.717491</td>\n",
       "      <td>N</td>\n",
       "      <td>1294</td>\n",
       "    </tr>\n",
       "  </tbody>\n",
       "</table>\n",
       "</div>"
      ],
      "text/plain": [
       "               id  vendor_id pickup_datetime dropoff_datetime  \\\n",
       "701773  id3888279          1     1/1/16 0:01      1/1/16 0:05   \n",
       "701774  id1210365          2     1/1/16 0:01      1/1/16 0:07   \n",
       "701775  id0924227          1     1/1/16 0:01      1/1/16 0:13   \n",
       "701776  id0190469          2     1/1/16 0:00      1/1/16 0:14   \n",
       "701777  id1665586          1     1/1/16 0:00      1/1/16 0:22   \n",
       "\n",
       "        passenger_count  pickup_longitude  pickup_latitude  dropoff_longitude  \\\n",
       "701773                1        -73.982292        40.751331         -73.991341   \n",
       "701774                5        -73.965279        40.801041         -73.947479   \n",
       "701775                1        -73.970108        40.759800         -73.989357   \n",
       "701776                5        -73.981743        40.719158         -73.938828   \n",
       "701777                1        -73.985085        40.747166         -73.958038   \n",
       "\n",
       "        dropoff_latitude store_and_fwd_flag  trip_duration  \n",
       "701773         40.750340                  N            280  \n",
       "701774         40.815170                  N            408  \n",
       "701775         40.742989                  N            736  \n",
       "701776         40.829182                  N            849  \n",
       "701777         40.717491                  N           1294  "
      ]
     },
     "execution_count": 6,
     "metadata": {},
     "output_type": "execute_result"
    }
   ],
   "source": [
    "train.tail()"
   ]
  },
  {
   "cell_type": "code",
   "execution_count": 7,
   "metadata": {},
   "outputs": [
    {
     "data": {
      "text/plain": [
       "Index(['id', 'vendor_id', 'pickup_datetime', 'passenger_count',\n",
       "       'pickup_longitude', 'pickup_latitude', 'dropoff_longitude',\n",
       "       'dropoff_latitude', 'store_and_fwd_flag'],\n",
       "      dtype='object')"
      ]
     },
     "execution_count": 7,
     "metadata": {},
     "output_type": "execute_result"
    }
   ],
   "source": [
    "test.keys()"
   ]
  },
  {
   "cell_type": "code",
   "execution_count": 8,
   "metadata": {},
   "outputs": [
    {
     "data": {
      "text/plain": [
       "Index(['id', 'vendor_id', 'pickup_datetime', 'dropoff_datetime',\n",
       "       'passenger_count', 'pickup_longitude', 'pickup_latitude',\n",
       "       'dropoff_longitude', 'dropoff_latitude', 'store_and_fwd_flag',\n",
       "       'trip_duration'],\n",
       "      dtype='object')"
      ]
     },
     "execution_count": 8,
     "metadata": {},
     "output_type": "execute_result"
    }
   ],
   "source": [
    "train.keys()"
   ]
  },
  {
   "cell_type": "code",
   "execution_count": 9,
   "metadata": {},
   "outputs": [
    {
     "data": {
      "text/plain": [
       "['dropoff_datetime', 'trip_duration']"
      ]
     },
     "execution_count": 9,
     "metadata": {},
     "output_type": "execute_result"
    }
   ],
   "source": [
    "[x for x in train.keys() if x not in test.keys()]"
   ]
  },
  {
   "cell_type": "code",
   "execution_count": 14,
   "metadata": {},
   "outputs": [
    {
     "name": "stdout",
     "output_type": "stream",
     "text": [
      "<class 'pandas.core.frame.DataFrame'>\n",
      "RangeIndex: 701778 entries, 0 to 701777\n",
      "Data columns (total 11 columns):\n",
      "id                    701778 non-null object\n",
      "vendor_id             701778 non-null int64\n",
      "pickup_datetime       701778 non-null object\n",
      "dropoff_datetime      701778 non-null object\n",
      "passenger_count       701778 non-null int64\n",
      "pickup_longitude      701778 non-null float64\n",
      "pickup_latitude       701778 non-null float64\n",
      "dropoff_longitude     701778 non-null float64\n",
      "dropoff_latitude      701778 non-null float64\n",
      "store_and_fwd_flag    701778 non-null object\n",
      "trip_duration         701778 non-null int64\n",
      "dtypes: float64(4), int64(3), object(4)\n",
      "memory usage: 58.9+ MB\n"
     ]
    }
   ],
   "source": [
    "train.info(verbose=True)"
   ]
  },
  {
   "cell_type": "code",
   "execution_count": 13,
   "metadata": {},
   "outputs": [
    {
     "data": {
      "text/html": [
       "<div>\n",
       "<style>\n",
       "    .dataframe thead tr:only-child th {\n",
       "        text-align: right;\n",
       "    }\n",
       "\n",
       "    .dataframe thead th {\n",
       "        text-align: left;\n",
       "    }\n",
       "\n",
       "    .dataframe tbody tr th {\n",
       "        vertical-align: top;\n",
       "    }\n",
       "</style>\n",
       "<table border=\"1\" class=\"dataframe\">\n",
       "  <thead>\n",
       "    <tr style=\"text-align: right;\">\n",
       "      <th></th>\n",
       "      <th>vendor_id</th>\n",
       "      <th>passenger_count</th>\n",
       "      <th>pickup_longitude</th>\n",
       "      <th>pickup_latitude</th>\n",
       "      <th>dropoff_longitude</th>\n",
       "      <th>dropoff_latitude</th>\n",
       "      <th>trip_duration</th>\n",
       "    </tr>\n",
       "  </thead>\n",
       "  <tbody>\n",
       "    <tr>\n",
       "      <th>count</th>\n",
       "      <td>701778.000000</td>\n",
       "      <td>701778.000000</td>\n",
       "      <td>701778.000000</td>\n",
       "      <td>701778.000000</td>\n",
       "      <td>701778.000000</td>\n",
       "      <td>701778.000000</td>\n",
       "      <td>7.017780e+05</td>\n",
       "    </tr>\n",
       "    <tr>\n",
       "      <th>mean</th>\n",
       "      <td>1.536037</td>\n",
       "      <td>1.666577</td>\n",
       "      <td>-73.973665</td>\n",
       "      <td>40.750969</td>\n",
       "      <td>-73.973583</td>\n",
       "      <td>40.751836</td>\n",
       "      <td>9.387318e+02</td>\n",
       "    </tr>\n",
       "    <tr>\n",
       "      <th>std</th>\n",
       "      <td>0.498700</td>\n",
       "      <td>1.319466</td>\n",
       "      <td>0.043910</td>\n",
       "      <td>0.033139</td>\n",
       "      <td>0.044214</td>\n",
       "      <td>0.037572</td>\n",
       "      <td>6.772504e+03</td>\n",
       "    </tr>\n",
       "    <tr>\n",
       "      <th>min</th>\n",
       "      <td>1.000000</td>\n",
       "      <td>0.000000</td>\n",
       "      <td>-78.547401</td>\n",
       "      <td>34.359695</td>\n",
       "      <td>-79.817978</td>\n",
       "      <td>32.181141</td>\n",
       "      <td>1.000000e+00</td>\n",
       "    </tr>\n",
       "    <tr>\n",
       "      <th>25%</th>\n",
       "      <td>1.000000</td>\n",
       "      <td>1.000000</td>\n",
       "      <td>-73.991829</td>\n",
       "      <td>40.737400</td>\n",
       "      <td>-73.991325</td>\n",
       "      <td>40.735959</td>\n",
       "      <td>3.900000e+02</td>\n",
       "    </tr>\n",
       "    <tr>\n",
       "      <th>50%</th>\n",
       "      <td>2.000000</td>\n",
       "      <td>1.000000</td>\n",
       "      <td>-73.981789</td>\n",
       "      <td>40.754150</td>\n",
       "      <td>-73.979828</td>\n",
       "      <td>40.754478</td>\n",
       "      <td>6.480000e+02</td>\n",
       "    </tr>\n",
       "    <tr>\n",
       "      <th>75%</th>\n",
       "      <td>2.000000</td>\n",
       "      <td>2.000000</td>\n",
       "      <td>-73.967567</td>\n",
       "      <td>40.768246</td>\n",
       "      <td>-73.963249</td>\n",
       "      <td>40.769691</td>\n",
       "      <td>1.047000e+03</td>\n",
       "    </tr>\n",
       "    <tr>\n",
       "      <th>max</th>\n",
       "      <td>2.000000</td>\n",
       "      <td>8.000000</td>\n",
       "      <td>-61.335529</td>\n",
       "      <td>43.486885</td>\n",
       "      <td>-61.335529</td>\n",
       "      <td>43.674000</td>\n",
       "      <td>3.526282e+06</td>\n",
       "    </tr>\n",
       "  </tbody>\n",
       "</table>\n",
       "</div>"
      ],
      "text/plain": [
       "           vendor_id  passenger_count  pickup_longitude  pickup_latitude  \\\n",
       "count  701778.000000    701778.000000     701778.000000    701778.000000   \n",
       "mean        1.536037         1.666577        -73.973665        40.750969   \n",
       "std         0.498700         1.319466          0.043910         0.033139   \n",
       "min         1.000000         0.000000        -78.547401        34.359695   \n",
       "25%         1.000000         1.000000        -73.991829        40.737400   \n",
       "50%         2.000000         1.000000        -73.981789        40.754150   \n",
       "75%         2.000000         2.000000        -73.967567        40.768246   \n",
       "max         2.000000         8.000000        -61.335529        43.486885   \n",
       "\n",
       "       dropoff_longitude  dropoff_latitude  trip_duration  \n",
       "count      701778.000000     701778.000000   7.017780e+05  \n",
       "mean          -73.973583         40.751836   9.387318e+02  \n",
       "std             0.044214          0.037572   6.772504e+03  \n",
       "min           -79.817978         32.181141   1.000000e+00  \n",
       "25%           -73.991325         40.735959   3.900000e+02  \n",
       "50%           -73.979828         40.754478   6.480000e+02  \n",
       "75%           -73.963249         40.769691   1.047000e+03  \n",
       "max           -61.335529         43.674000   3.526282e+06  "
      ]
     },
     "execution_count": 13,
     "metadata": {},
     "output_type": "execute_result"
    }
   ],
   "source": [
    "train.describe()"
   ]
  }
 ],
 "metadata": {
  "kernelspec": {
   "display_name": "Python 3",
   "language": "python",
   "name": "python3"
  },
  "language_info": {
   "codemirror_mode": {
    "name": "ipython",
    "version": 3
   },
   "file_extension": ".py",
   "mimetype": "text/x-python",
   "name": "python",
   "nbconvert_exporter": "python",
   "pygments_lexer": "ipython3",
   "version": "3.6.1"
  }
 },
 "nbformat": 4,
 "nbformat_minor": 2
}
